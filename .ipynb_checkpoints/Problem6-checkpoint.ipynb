{
 "cells": [
  {
   "cell_type": "code",
   "execution_count": 1,
   "id": "d00aa469",
   "metadata": {},
   "outputs": [
    {
     "name": "stdout",
     "output_type": "stream",
     "text": [
      "appyhay\n",
      "Enterway\n"
     ]
    }
   ],
   "source": [
    "# -*- coding: utf-8 -*-\n",
    "\"\"\"\n",
    "Created on Sat Jan 29 10:17:51 2022\n",
    "\n",
    "@author: ARTEM SAFARIAN \n",
    "\"\"\"\n",
    "def pig(word):\n",
    "    vowel = 'aeiou'\n",
    "# check string starts with vowel or consonant\n",
    "    if word[0].lower() in vowel:\n",
    "        word = word+\"way\"\n",
    "    else:\n",
    "        word = word[1:]+ word[0]+ \"ay\"\n",
    "\n",
    "    print(word)\n",
    "    \n",
    "    \n",
    "        \n",
    "def main():\n",
    "    pig(\"happy\")\n",
    "    pig(\"Enter\")\n",
    "\n",
    "   \n",
    "if __name__ == \"__main__\":\n",
    "    main()\n",
    "\n",
    "\n"
   ]
  }
 ],
 "metadata": {
  "kernelspec": {
   "display_name": "Python 3 (ipykernel)",
   "language": "python",
   "name": "python3"
  },
  "language_info": {
   "codemirror_mode": {
    "name": "ipython",
    "version": 3
   },
   "file_extension": ".py",
   "mimetype": "text/x-python",
   "name": "python",
   "nbconvert_exporter": "python",
   "pygments_lexer": "ipython3",
   "version": "3.9.7"
  }
 },
 "nbformat": 4,
 "nbformat_minor": 5
}
